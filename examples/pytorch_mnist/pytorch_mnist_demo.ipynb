{
 "cells": [
  {
   "attachments": {},
   "cell_type": "markdown",
   "id": "a682ea0b",
   "metadata": {},
   "source": [
    "# BentoML PyTorch MNIST Tutorial\n",
    "\n",
    "Link to source code: https://github.com/bentoml/BentoML/tree/main/examples/pytorch_mnist/\n",
    "\n",
    "Install required dependencies:"
   ]
  },
  {
   "cell_type": "code",
   "execution_count": null,
   "id": "3ad00863",
   "metadata": {},
   "outputs": [],
   "source": [
    "%pip install -r requirements.txt"
   ]
  },
  {
   "attachments": {},
   "cell_type": "markdown",
   "id": "45393b74",
   "metadata": {},
   "source": [
    "## Define the model\n",
    "\n",
    "First let's define a simple PyTorch network"
   ]
  },
  {
   "cell_type": "code",
   "execution_count": 1,
   "id": "caeff07d",
   "metadata": {},
   "outputs": [],
   "source": [
    "import torch\n",
    "import torch.nn as nn\n",
    "\n",
    "\n",
    "class SimpleConvNet(nn.Module):\n",
    "    \"\"\"\n",
    "    Simple Convolutional Neural Network\n",
    "    \"\"\"\n",
    "\n",
    "    def __init__(self):\n",
    "        super().__init__()\n",
    "        self.layers = nn.Sequential(\n",
    "            nn.Conv2d(1, 10, kernel_size=3),\n",
    "            nn.ReLU(),\n",
    "            nn.Flatten(),\n",
    "            nn.Linear(26 * 26 * 10, 50),\n",
    "            nn.ReLU(),\n",
    "            nn.Linear(50, 20),\n",
    "            nn.ReLU(),\n",
    "            nn.Linear(20, 10),\n",
    "        )\n",
    "\n",
    "    def forward(self, x):\n",
    "        return self.layers(x)\n",
    "\n",
    "    def predict(self, inp):\n",
    "        \"\"\"predict digit for input\"\"\"\n",
    "        self.eval()\n",
    "        with torch.no_grad():\n",
    "            raw_output = self(inp)\n",
    "            _, pred = torch.max(raw_output, 1)\n",
    "            return pred"
   ]
  },
  {
   "attachments": {},
   "cell_type": "markdown",
   "id": "38888f0a",
   "metadata": {},
   "source": [
    "## Training and Saving the model\n",
    "\n",
    "Then we define a simple PyTorch network and some helper functions"
   ]
  },
  {
   "cell_type": "code",
   "execution_count": 2,
   "id": "c62db15c",
   "metadata": {},
   "outputs": [],
   "source": [
    "import os\n",
    "import random\n",
    "import numpy as np\n",
    "import torch\n",
    "import torch.nn.functional as F\n",
    "from torch import nn\n",
    "from torchvision.datasets import MNIST\n",
    "from torch.utils.data import DataLoader, ConcatDataset\n",
    "from torchvision import transforms\n",
    "from sklearn.model_selection import KFold\n",
    "\n",
    "import bentoml\n",
    "\n",
    "# reproducible setup for testing\n",
    "seed = 42\n",
    "random.seed(seed)\n",
    "np.random.seed(seed)\n",
    "torch.manual_seed(seed)\n",
    "torch.cuda.manual_seed(seed)\n",
    "torch.cuda.manual_seed_all(seed)\n",
    "torch.backends.cudnn.benchmark = False\n",
    "torch.backends.cudnn.deterministic = True\n",
    "\n",
    "device = torch.device(\"cuda\" if torch.cuda.is_available() else \"cpu\")\n",
    "\n",
    "def _dataloader_init_fn(worker_id):\n",
    "    np.random.seed(seed)"
   ]
  },
  {
   "cell_type": "code",
   "execution_count": 3,
   "id": "539b5097",
   "metadata": {},
   "outputs": [],
   "source": [
    "K_FOLDS = 5\n",
    "NUM_EPOCHS = 5\n",
    "LOSS_FUNCTION = nn.CrossEntropyLoss()\n",
    "\n",
    "\n",
    "def get_dataset():\n",
    "    # Prepare MNIST dataset by concatenating Train/Test part; we split later.\n",
    "    train_set = MNIST(\n",
    "        os.getcwd(), download=True, transform=transforms.ToTensor(), train=True\n",
    "    )\n",
    "    test_set = MNIST(\n",
    "        os.getcwd(), download=True, transform=transforms.ToTensor(), train=False\n",
    "    )\n",
    "    return train_set, test_set\n",
    "\n",
    "\n",
    "def train_epoch(model, optimizer, loss_function, train_loader, epoch, device=\"cpu\"):\n",
    "    # Mark training flag\n",
    "    model.train()\n",
    "    for batch_idx, (inputs, targets) in enumerate(train_loader):\n",
    "        inputs, targets = inputs.to(device), targets.to(device)\n",
    "        optimizer.zero_grad()\n",
    "        outputs = model(inputs)\n",
    "        loss = loss_function(outputs, targets)\n",
    "        loss.backward()\n",
    "        optimizer.step()\n",
    "        if batch_idx % 499 == 0:\n",
    "            print(\n",
    "                \"Train Epoch: {} [{}/{} ({:.0f}%)]\\tLoss: {:.6f}\".format(\n",
    "                    epoch,\n",
    "                    batch_idx * len(inputs),\n",
    "                    len(train_loader.dataset),\n",
    "                    100.0 * batch_idx / len(train_loader),\n",
    "                    loss.item(),\n",
    "                )\n",
    "            )\n",
    "\n",
    "\n",
    "def test_model(model, test_loader, device=\"cpu\"):\n",
    "    correct, total = 0, 0\n",
    "    model.eval()\n",
    "    with torch.no_grad():\n",
    "        for batch_idx, (inputs, targets) in enumerate(test_loader):\n",
    "            inputs, targets = inputs.to(device), targets.to(device)\n",
    "            outputs = model(inputs)\n",
    "            _, predicted = torch.max(outputs.data, 1)\n",
    "            total += targets.size(0)\n",
    "            correct += (predicted == targets).sum().item()\n",
    "\n",
    "    return correct, total"
   ]
  },
  {
   "cell_type": "code",
   "execution_count": 4,
   "id": "8d2db4a8",
   "metadata": {},
   "outputs": [
    {
     "name": "stdout",
     "output_type": "stream",
     "text": [
      "Downloading http://yann.lecun.com/exdb/mnist/train-images-idx3-ubyte.gz\n",
      "Downloading http://yann.lecun.com/exdb/mnist/train-images-idx3-ubyte.gz to /home/rishab/Documents/codes/unify/bentoml/unifys_fork/BentoML/examples/pytorch_mnist/MNIST/raw/train-images-idx3-ubyte.gz\n"
     ]
    },
    {
     "name": "stderr",
     "output_type": "stream",
     "text": [
      "100%|██████████| 9912422/9912422 [00:00<00:00, 13577232.06it/s]\n"
     ]
    },
    {
     "name": "stdout",
     "output_type": "stream",
     "text": [
      "Extracting /home/rishab/Documents/codes/unify/bentoml/unifys_fork/BentoML/examples/pytorch_mnist/MNIST/raw/train-images-idx3-ubyte.gz to /home/rishab/Documents/codes/unify/bentoml/unifys_fork/BentoML/examples/pytorch_mnist/MNIST/raw\n",
      "\n",
      "Downloading http://yann.lecun.com/exdb/mnist/train-labels-idx1-ubyte.gz\n",
      "Downloading http://yann.lecun.com/exdb/mnist/train-labels-idx1-ubyte.gz to /home/rishab/Documents/codes/unify/bentoml/unifys_fork/BentoML/examples/pytorch_mnist/MNIST/raw/train-labels-idx1-ubyte.gz\n"
     ]
    },
    {
     "name": "stderr",
     "output_type": "stream",
     "text": [
      "100%|██████████| 28881/28881 [00:00<00:00, 606633.92it/s]\n"
     ]
    },
    {
     "name": "stdout",
     "output_type": "stream",
     "text": [
      "Extracting /home/rishab/Documents/codes/unify/bentoml/unifys_fork/BentoML/examples/pytorch_mnist/MNIST/raw/train-labels-idx1-ubyte.gz to /home/rishab/Documents/codes/unify/bentoml/unifys_fork/BentoML/examples/pytorch_mnist/MNIST/raw\n",
      "\n",
      "Downloading http://yann.lecun.com/exdb/mnist/t10k-images-idx3-ubyte.gz\n",
      "Downloading http://yann.lecun.com/exdb/mnist/t10k-images-idx3-ubyte.gz to /home/rishab/Documents/codes/unify/bentoml/unifys_fork/BentoML/examples/pytorch_mnist/MNIST/raw/t10k-images-idx3-ubyte.gz\n"
     ]
    },
    {
     "name": "stderr",
     "output_type": "stream",
     "text": [
      "100%|██████████| 1648877/1648877 [00:00<00:00, 3291183.10it/s]\n"
     ]
    },
    {
     "name": "stdout",
     "output_type": "stream",
     "text": [
      "Extracting /home/rishab/Documents/codes/unify/bentoml/unifys_fork/BentoML/examples/pytorch_mnist/MNIST/raw/t10k-images-idx3-ubyte.gz to /home/rishab/Documents/codes/unify/bentoml/unifys_fork/BentoML/examples/pytorch_mnist/MNIST/raw\n",
      "\n",
      "Downloading http://yann.lecun.com/exdb/mnist/t10k-labels-idx1-ubyte.gz\n",
      "Downloading http://yann.lecun.com/exdb/mnist/t10k-labels-idx1-ubyte.gz to /home/rishab/Documents/codes/unify/bentoml/unifys_fork/BentoML/examples/pytorch_mnist/MNIST/raw/t10k-labels-idx1-ubyte.gz\n"
     ]
    },
    {
     "name": "stderr",
     "output_type": "stream",
     "text": [
      "100%|██████████| 4542/4542 [00:00<00:00, 19340638.34it/s]"
     ]
    },
    {
     "name": "stdout",
     "output_type": "stream",
     "text": [
      "Extracting /home/rishab/Documents/codes/unify/bentoml/unifys_fork/BentoML/examples/pytorch_mnist/MNIST/raw/t10k-labels-idx1-ubyte.gz to /home/rishab/Documents/codes/unify/bentoml/unifys_fork/BentoML/examples/pytorch_mnist/MNIST/raw\n",
      "\n"
     ]
    },
    {
     "name": "stderr",
     "output_type": "stream",
     "text": [
      "\n"
     ]
    }
   ],
   "source": [
    "# load data\n",
    "train_set, test_set = get_dataset()\n",
    "test_loader = torch.utils.data.DataLoader(\n",
    "    test_set,\n",
    "    batch_size=10,\n",
    "    sampler=torch.utils.data.RandomSampler(test_set),\n",
    "    worker_init_fn=_dataloader_init_fn,\n",
    ")"
   ]
  },
  {
   "attachments": {},
   "cell_type": "markdown",
   "id": "788c19a0",
   "metadata": {},
   "source": [
    "### Cross Validation\n",
    "\n",
    "We can do some cross validation and the results can be saved with the model as metadata\n"
   ]
  },
  {
   "cell_type": "code",
   "execution_count": 5,
   "id": "0b2fdd72",
   "metadata": {},
   "outputs": [],
   "source": [
    "def cross_validate(dataset, epochs=NUM_EPOCHS, k_folds=K_FOLDS, device='cpu'):\n",
    "    results = {}\n",
    "\n",
    "    # Define the K-fold Cross Validator\n",
    "    kfold = KFold(n_splits=k_folds, shuffle=True)\n",
    "\n",
    "    print(\"--------------------------------\")\n",
    "\n",
    "    # K-fold Cross Validation model evaluation\n",
    "    for fold, (train_ids, test_ids) in enumerate(kfold.split(dataset)):\n",
    "\n",
    "        print(f\"FOLD {fold}\")\n",
    "        print(\"--------------------------------\")\n",
    "\n",
    "        # Sample elements randomly from a given list of ids, no replacement.\n",
    "        train_subsampler = torch.utils.data.SubsetRandomSampler(train_ids)\n",
    "        test_subsampler = torch.utils.data.SubsetRandomSampler(test_ids)\n",
    "\n",
    "        # Define data loaders for training and testing data in this fold\n",
    "        train_loader = torch.utils.data.DataLoader(\n",
    "            dataset,\n",
    "            batch_size=10,\n",
    "            sampler=train_subsampler,\n",
    "            worker_init_fn=_dataloader_init_fn,\n",
    "        )\n",
    "        test_loader = torch.utils.data.DataLoader(\n",
    "            dataset,\n",
    "            batch_size=10,\n",
    "            sampler=test_subsampler,\n",
    "            worker_init_fn=_dataloader_init_fn,\n",
    "        )\n",
    "\n",
    "        # Train this fold\n",
    "        model = SimpleConvNet().to(device)\n",
    "        optimizer = torch.optim.Adam(model.parameters(), lr=1e-4)\n",
    "        loss_function = nn.CrossEntropyLoss()\n",
    "        for epoch in range(epochs):\n",
    "            train_epoch(model, optimizer, loss_function, train_loader, epoch, device)\n",
    "\n",
    "        # Evaluation for this fold\n",
    "        correct, total = test_model(model, test_loader, device)\n",
    "        print(\"Accuracy for fold %d: %d %%\" % (fold, 100.0 * correct / total))\n",
    "        print(\"--------------------------------\")\n",
    "        results[fold] = 100.0 * (correct / total)\n",
    "\n",
    "    # Print fold results\n",
    "    print(f\"K-FOLD CROSS VALIDATION RESULTS FOR {K_FOLDS} FOLDS\")\n",
    "    print(\"--------------------------------\")\n",
    "    sum = 0.0\n",
    "    for key, value in results.items():\n",
    "        print(f\"Fold {key}: {value} %\")\n",
    "        sum += value\n",
    "\n",
    "    print(f\"Average: {sum/len(results.items())} %\")\n",
    "\n",
    "    return results"
   ]
  },
  {
   "cell_type": "code",
   "execution_count": 7,
   "id": "bd06de8f",
   "metadata": {},
   "outputs": [
    {
     "name": "stdout",
     "output_type": "stream",
     "text": [
      "--------------------------------\n",
      "FOLD 0\n",
      "--------------------------------\n",
      "Train Epoch: 0 [0/60000 (0%)]\tLoss: 2.273127\n",
      "Train Epoch: 0 [4990/60000 (10%)]\tLoss: 1.362216\n",
      "Train Epoch: 0 [9980/60000 (21%)]\tLoss: 0.411742\n",
      "Train Epoch: 0 [14970/60000 (31%)]\tLoss: 1.001366\n",
      "Train Epoch: 0 [19960/60000 (42%)]\tLoss: 0.102839\n",
      "Train Epoch: 0 [24950/60000 (52%)]\tLoss: 0.510927\n",
      "Train Epoch: 0 [29940/60000 (62%)]\tLoss: 0.053766\n",
      "Train Epoch: 0 [34930/60000 (73%)]\tLoss: 0.231184\n",
      "Train Epoch: 0 [39920/60000 (83%)]\tLoss: 0.372940\n",
      "Train Epoch: 0 [44910/60000 (94%)]\tLoss: 0.128234\n",
      "Accuracy for fold 0: 91 %\n",
      "--------------------------------\n",
      "FOLD 1\n",
      "--------------------------------\n",
      "Train Epoch: 0 [0/60000 (0%)]\tLoss: 2.327491\n",
      "Train Epoch: 0 [4990/60000 (10%)]\tLoss: 1.318107\n",
      "Train Epoch: 0 [9980/60000 (21%)]\tLoss: 0.485991\n",
      "Train Epoch: 0 [14970/60000 (31%)]\tLoss: 1.216311\n",
      "Train Epoch: 0 [19960/60000 (42%)]\tLoss: 0.419982\n",
      "Train Epoch: 0 [24950/60000 (52%)]\tLoss: 0.758951\n",
      "Train Epoch: 0 [29940/60000 (62%)]\tLoss: 0.147900\n",
      "Train Epoch: 0 [34930/60000 (73%)]\tLoss: 0.171809\n",
      "Train Epoch: 0 [39920/60000 (83%)]\tLoss: 0.317513\n",
      "Train Epoch: 0 [44910/60000 (94%)]\tLoss: 0.669927\n",
      "Accuracy for fold 1: 91 %\n",
      "--------------------------------\n",
      "FOLD 2\n",
      "--------------------------------\n",
      "Train Epoch: 0 [0/60000 (0%)]\tLoss: 2.218862\n",
      "Train Epoch: 0 [4990/60000 (10%)]\tLoss: 1.440863\n",
      "Train Epoch: 0 [9980/60000 (21%)]\tLoss: 0.390616\n",
      "Train Epoch: 0 [14970/60000 (31%)]\tLoss: 0.372521\n",
      "Train Epoch: 0 [19960/60000 (42%)]\tLoss: 0.524743\n",
      "Train Epoch: 0 [24950/60000 (52%)]\tLoss: 0.206889\n",
      "Train Epoch: 0 [29940/60000 (62%)]\tLoss: 0.041551\n",
      "Train Epoch: 0 [34930/60000 (73%)]\tLoss: 0.222209\n",
      "Train Epoch: 0 [39920/60000 (83%)]\tLoss: 0.570893\n",
      "Train Epoch: 0 [44910/60000 (94%)]\tLoss: 0.221007\n",
      "Accuracy for fold 2: 90 %\n",
      "--------------------------------\n",
      "FOLD 3\n",
      "--------------------------------\n",
      "Train Epoch: 0 [0/60000 (0%)]\tLoss: 2.316931\n",
      "Train Epoch: 0 [4990/60000 (10%)]\tLoss: 0.965538\n",
      "Train Epoch: 0 [9980/60000 (21%)]\tLoss: 0.240634\n",
      "Train Epoch: 0 [14970/60000 (31%)]\tLoss: 0.375480\n",
      "Train Epoch: 0 [19960/60000 (42%)]\tLoss: 0.150217\n",
      "Train Epoch: 0 [24950/60000 (52%)]\tLoss: 0.608829\n",
      "Train Epoch: 0 [29940/60000 (62%)]\tLoss: 0.035714\n",
      "Train Epoch: 0 [34930/60000 (73%)]\tLoss: 0.420194\n",
      "Train Epoch: 0 [39920/60000 (83%)]\tLoss: 0.175810\n",
      "Train Epoch: 0 [44910/60000 (94%)]\tLoss: 0.158451\n",
      "Accuracy for fold 3: 92 %\n",
      "--------------------------------\n",
      "FOLD 4\n",
      "--------------------------------\n",
      "Train Epoch: 0 [0/60000 (0%)]\tLoss: 2.352834\n",
      "Train Epoch: 0 [4990/60000 (10%)]\tLoss: 0.953534\n",
      "Train Epoch: 0 [9980/60000 (21%)]\tLoss: 0.918018\n",
      "Train Epoch: 0 [14970/60000 (31%)]\tLoss: 0.854282\n",
      "Train Epoch: 0 [19960/60000 (42%)]\tLoss: 0.248393\n",
      "Train Epoch: 0 [24950/60000 (52%)]\tLoss: 0.237291\n",
      "Train Epoch: 0 [29940/60000 (62%)]\tLoss: 0.449530\n",
      "Train Epoch: 0 [34930/60000 (73%)]\tLoss: 0.225519\n",
      "Train Epoch: 0 [39920/60000 (83%)]\tLoss: 0.256260\n",
      "Train Epoch: 0 [44910/60000 (94%)]\tLoss: 0.180360\n",
      "Accuracy for fold 4: 90 %\n",
      "--------------------------------\n",
      "K-FOLD CROSS VALIDATION RESULTS FOR 5 FOLDS\n",
      "--------------------------------\n",
      "Fold 0: 91.13333333333333 %\n",
      "Fold 1: 91.3 %\n",
      "Fold 2: 90.81666666666666 %\n",
      "Fold 3: 92.07499999999999 %\n",
      "Fold 4: 90.9 %\n",
      "Average: 91.245 %\n"
     ]
    }
   ],
   "source": [
    "cv_results = cross_validate(train_set, epochs=1, device=device)"
   ]
  },
  {
   "attachments": {},
   "cell_type": "markdown",
   "id": "ad2104a6",
   "metadata": {},
   "source": [
    "### training the model"
   ]
  },
  {
   "cell_type": "code",
   "execution_count": 8,
   "id": "d3d311c5",
   "metadata": {},
   "outputs": [],
   "source": [
    "def train(dataset, epochs=NUM_EPOCHS, device=\"cpu\"):\n",
    "\n",
    "    train_sampler = torch.utils.data.RandomSampler(dataset)\n",
    "    train_loader = torch.utils.data.DataLoader(\n",
    "        dataset,\n",
    "        batch_size=10,\n",
    "        sampler=train_sampler,\n",
    "        worker_init_fn=_dataloader_init_fn,\n",
    "    )\n",
    "    model = SimpleConvNet()\n",
    "    optimizer = torch.optim.Adam(model.parameters(), lr=1e-4)\n",
    "    loss_function = nn.CrossEntropyLoss()\n",
    "    model = model.to(device)\n",
    "    for epoch in range(epochs):\n",
    "        train_epoch(model, optimizer, loss_function, train_loader, epoch, device)\n",
    "    return model"
   ]
  },
  {
   "cell_type": "code",
   "execution_count": 9,
   "id": "e8df05c4",
   "metadata": {},
   "outputs": [
    {
     "name": "stdout",
     "output_type": "stream",
     "text": [
      "Train Epoch: 0 [0/60000 (0%)]\tLoss: 2.371420\n",
      "Train Epoch: 0 [4990/60000 (8%)]\tLoss: 1.000866\n",
      "Train Epoch: 0 [9980/60000 (17%)]\tLoss: 1.110684\n",
      "Train Epoch: 0 [14970/60000 (25%)]\tLoss: 0.737674\n",
      "Train Epoch: 0 [19960/60000 (33%)]\tLoss: 0.364441\n",
      "Train Epoch: 0 [24950/60000 (42%)]\tLoss: 0.390488\n",
      "Train Epoch: 0 [29940/60000 (50%)]\tLoss: 0.282015\n",
      "Train Epoch: 0 [34930/60000 (58%)]\tLoss: 0.199639\n",
      "Train Epoch: 0 [39920/60000 (67%)]\tLoss: 0.367602\n",
      "Train Epoch: 0 [44910/60000 (75%)]\tLoss: 0.554657\n",
      "Train Epoch: 0 [49900/60000 (83%)]\tLoss: 0.017670\n",
      "Train Epoch: 0 [54890/60000 (91%)]\tLoss: 0.086635\n",
      "Train Epoch: 0 [59880/60000 (100%)]\tLoss: 0.249397\n",
      "Train Epoch: 1 [0/60000 (0%)]\tLoss: 0.222882\n",
      "Train Epoch: 1 [4990/60000 (8%)]\tLoss: 0.287983\n",
      "Train Epoch: 1 [9980/60000 (17%)]\tLoss: 0.151059\n",
      "Train Epoch: 1 [14970/60000 (25%)]\tLoss: 0.118343\n",
      "Train Epoch: 1 [19960/60000 (33%)]\tLoss: 0.756619\n",
      "Train Epoch: 1 [24950/60000 (42%)]\tLoss: 0.100837\n",
      "Train Epoch: 1 [29940/60000 (50%)]\tLoss: 0.133997\n",
      "Train Epoch: 1 [34930/60000 (58%)]\tLoss: 1.145330\n",
      "Train Epoch: 1 [39920/60000 (67%)]\tLoss: 0.029823\n",
      "Train Epoch: 1 [44910/60000 (75%)]\tLoss: 0.175509\n",
      "Train Epoch: 1 [49900/60000 (83%)]\tLoss: 0.097101\n",
      "Train Epoch: 1 [54890/60000 (91%)]\tLoss: 0.556650\n",
      "Train Epoch: 1 [59880/60000 (100%)]\tLoss: 0.014780\n",
      "Train Epoch: 2 [0/60000 (0%)]\tLoss: 0.117354\n",
      "Train Epoch: 2 [4990/60000 (8%)]\tLoss: 0.010053\n",
      "Train Epoch: 2 [9980/60000 (17%)]\tLoss: 0.034273\n",
      "Train Epoch: 2 [14970/60000 (25%)]\tLoss: 0.112337\n",
      "Train Epoch: 2 [19960/60000 (33%)]\tLoss: 0.126786\n",
      "Train Epoch: 2 [24950/60000 (42%)]\tLoss: 0.101872\n",
      "Train Epoch: 2 [29940/60000 (50%)]\tLoss: 0.008624\n",
      "Train Epoch: 2 [34930/60000 (58%)]\tLoss: 0.267356\n",
      "Train Epoch: 2 [39920/60000 (67%)]\tLoss: 0.122472\n",
      "Train Epoch: 2 [44910/60000 (75%)]\tLoss: 0.114122\n",
      "Train Epoch: 2 [49900/60000 (83%)]\tLoss: 0.117053\n",
      "Train Epoch: 2 [54890/60000 (91%)]\tLoss: 0.054726\n",
      "Train Epoch: 2 [59880/60000 (100%)]\tLoss: 0.672942\n",
      "Train Epoch: 3 [0/60000 (0%)]\tLoss: 0.139965\n",
      "Train Epoch: 3 [4990/60000 (8%)]\tLoss: 0.257957\n",
      "Train Epoch: 3 [9980/60000 (17%)]\tLoss: 0.064906\n",
      "Train Epoch: 3 [14970/60000 (25%)]\tLoss: 0.057580\n",
      "Train Epoch: 3 [19960/60000 (33%)]\tLoss: 0.020287\n",
      "Train Epoch: 3 [24950/60000 (42%)]\tLoss: 0.024309\n",
      "Train Epoch: 3 [29940/60000 (50%)]\tLoss: 0.113165\n",
      "Train Epoch: 3 [34930/60000 (58%)]\tLoss: 0.096085\n",
      "Train Epoch: 3 [39920/60000 (67%)]\tLoss: 0.281361\n",
      "Train Epoch: 3 [44910/60000 (75%)]\tLoss: 0.016093\n",
      "Train Epoch: 3 [49900/60000 (83%)]\tLoss: 0.104659\n",
      "Train Epoch: 3 [54890/60000 (91%)]\tLoss: 0.042764\n",
      "Train Epoch: 3 [59880/60000 (100%)]\tLoss: 0.291086\n",
      "Train Epoch: 4 [0/60000 (0%)]\tLoss: 0.489768\n",
      "Train Epoch: 4 [4990/60000 (8%)]\tLoss: 0.013543\n",
      "Train Epoch: 4 [9980/60000 (17%)]\tLoss: 0.093427\n",
      "Train Epoch: 4 [14970/60000 (25%)]\tLoss: 0.030668\n",
      "Train Epoch: 4 [19960/60000 (33%)]\tLoss: 0.051385\n",
      "Train Epoch: 4 [24950/60000 (42%)]\tLoss: 0.505770\n",
      "Train Epoch: 4 [29940/60000 (50%)]\tLoss: 0.141526\n",
      "Train Epoch: 4 [34930/60000 (58%)]\tLoss: 0.036125\n",
      "Train Epoch: 4 [39920/60000 (67%)]\tLoss: 0.298740\n",
      "Train Epoch: 4 [44910/60000 (75%)]\tLoss: 0.288054\n",
      "Train Epoch: 4 [49900/60000 (83%)]\tLoss: 0.178683\n",
      "Train Epoch: 4 [54890/60000 (91%)]\tLoss: 0.005956\n",
      "Train Epoch: 4 [59880/60000 (100%)]\tLoss: 0.012567\n"
     ]
    }
   ],
   "source": [
    "trained_model = train(train_set, device=device)"
   ]
  },
  {
   "attachments": {},
   "cell_type": "markdown",
   "id": "92d9b23c",
   "metadata": {},
   "source": [
    "### saving the model with some metadata"
   ]
  },
  {
   "cell_type": "code",
   "execution_count": 11,
   "id": "1fe9c4a7",
   "metadata": {},
   "outputs": [],
   "source": [
    "correct, total = test_model(trained_model, test_loader, device=device)\n",
    "metadata = {\n",
    "    \"accuracy\": float(correct) / total,\n",
    "    \"cv_stats\": cv_results,\n",
    "}\n",
    "\n",
    "tag = bentoml.pytorch.save_model(\n",
    "    \"pytorch_mnist\",\n",
    "    trained_model,\n",
    "    metadata=metadata,\n",
    ")"
   ]
  },
  {
   "attachments": {},
   "cell_type": "markdown",
   "id": "271dd5e4",
   "metadata": {},
   "source": [
    "# Loading model "
   ]
  },
  {
   "cell_type": "code",
   "execution_count": 1,
   "id": "25fc082d",
   "metadata": {},
   "outputs": [],
   "source": [
    "import torch\n",
    "import torch\n",
    "import PIL.Image\n",
    "import numpy as np\n",
    "import jax\n",
    "import random\n",
    "\n",
    "import bentoml\n",
    "\n",
    "# reproducible setup for testing\n",
    "seed = 42\n",
    "random.seed(seed)\n",
    "np.random.seed(seed)\n",
    "torch.manual_seed(seed)\n",
    "torch.cuda.manual_seed(seed)\n",
    "torch.cuda.manual_seed_all(seed)\n",
    "torch.backends.cudnn.benchmark = False\n",
    "torch.backends.cudnn.deterministic = True\n",
    "\n",
    "device = torch.device(\"cuda\" if torch.cuda.is_available() else \"cpu\")\n",
    "\n",
    "jax.config.update(\"jax_enable_x64\", True)"
   ]
  },
  {
   "cell_type": "code",
   "execution_count": 2,
   "id": "e291a623",
   "metadata": {},
   "outputs": [],
   "source": [
    "img = PIL.Image.open(\"samples/0.png\")\n",
    "np_img = np.array(img)\n",
    "tensor_img = torch.from_numpy(np_img).float()\n",
    "tensor_img = tensor_img.unsqueeze(0).unsqueeze(0)\n",
    "tensor_img = torch.nn.functional.interpolate(tensor_img, size=28, mode='bicubic', align_corners=False).to(device)\n",
    "np_image = tensor_img.detach().cpu().numpy()"
   ]
  },
  {
   "attachments": {},
   "cell_type": "markdown",
   "id": "d69a71d6",
   "metadata": {},
   "source": [
    "### load normal pytorch version"
   ]
  },
  {
   "cell_type": "code",
   "execution_count": 3,
   "id": "08814552",
   "metadata": {},
   "outputs": [],
   "source": [
    "model = bentoml.pytorch.load_model(\"pytorch_mnist:latest\", \"cuda:0\")"
   ]
  },
  {
   "attachments": {},
   "cell_type": "markdown",
   "id": "f415df44",
   "metadata": {},
   "source": [
    "### load flax version\n",
    "after using ivy transpile magic"
   ]
  },
  {
   "cell_type": "code",
   "execution_count": 4,
   "id": "d4445faa",
   "metadata": {},
   "outputs": [
    {
     "name": "stderr",
     "output_type": "stream",
     "text": [
      "2023-06-03 16:26:13.279574: W tensorflow/compiler/tf2tensorrt/utils/py_utils.cc:38] TF-TRT Warning: Could not find TensorRT\n",
      "WARNING:root:To preserve the compiler and transpiler caches across multiple machines, ensure that the relative path of your projects from the .ivy folder is consistent across all machines. You can do this by adding .ivy to your home folder and placing all projects in the same place relative to the home folder on all machines.\n",
      "WARNING:jax._src.xla_bridge:No GPU/TPU found, falling back to CPU. (Set TF_CPP_MIN_LOG_LEVEL=0 and rerun for more info.)\n",
      "/home/rishab/Documents/codes/unify/ivy/ivy/func_wrapper.py:234: UserWarning: Creating many views will lead to overhead when performing inplace updates with this backend\n",
      "  warnings.warn(\n"
     ]
    }
   ],
   "source": [
    "jax_graph = bentoml.pytorch.load_model(\n",
    "        \"pytorch_mnist:latest\", \n",
    "        \"cuda:0\", \n",
    "        ivy_transpile=True, \n",
    "        inputs=tensor_img\n",
    "        )"
   ]
  },
  {
   "attachments": {},
   "cell_type": "markdown",
   "id": "d4743c72",
   "metadata": {},
   "source": [
    "### inference latency comparision"
   ]
  },
  {
   "cell_type": "code",
   "execution_count": 5,
   "id": "0d024fc8",
   "metadata": {},
   "outputs": [],
   "source": [
    "model.to(\"cuda\")\n",
    "\n",
    "def _f(args):\n",
    "  return model(args)\n",
    "\n",
    "comp_model = torch.compile(_f)\n",
    "_ = comp_model(tensor_img)"
   ]
  },
  {
   "cell_type": "code",
   "execution_count": 6,
   "id": "959524b1",
   "metadata": {},
   "outputs": [],
   "source": [
    "import haiku as hk\n",
    "\n",
    "def _forward(args):\n",
    "  module = jax_graph()\n",
    "  return module(args)\n",
    "\n",
    "_forward = jax.jit(_forward)\n",
    "rng_key = jax.random.PRNGKey(seed)\n",
    "jax_mlp_forward = hk.transform(_forward)\n",
    "params = jax_mlp_forward.init(rng=rng_key, args=np_image)"
   ]
  },
  {
   "cell_type": "code",
   "execution_count": 7,
   "id": "2554ab08",
   "metadata": {},
   "outputs": [
    {
     "name": "stdout",
     "output_type": "stream",
     "text": [
      "200 µs ± 1.67 µs per loop (mean ± std. dev. of 7 runs, 1,000 loops each)\n"
     ]
    }
   ],
   "source": [
    "%%timeit\n",
    "_ = comp_model(tensor_img)"
   ]
  },
  {
   "cell_type": "code",
   "execution_count": 8,
   "id": "d733c6cc",
   "metadata": {},
   "outputs": [
    {
     "name": "stdout",
     "output_type": "stream",
     "text": [
      "134 µs ± 10.8 µs per loop (mean ± std. dev. of 7 runs, 10,000 loops each)\n"
     ]
    }
   ],
   "source": [
    "%%timeit\n",
    "# local jax gpu setup isn't working so these numbers are \n",
    "# jax running on cpu vs gpu\n",
    "# still better latency, pretty impressive\n",
    "_ = jax_mlp_forward.apply(params, None, np_image)"
   ]
  },
  {
   "attachments": {},
   "cell_type": "markdown",
   "id": "04df1852",
   "metadata": {},
   "source": [
    "### sanity check if results are same"
   ]
  },
  {
   "cell_type": "code",
   "execution_count": 9,
   "id": "a1ae25a3",
   "metadata": {},
   "outputs": [],
   "source": [
    "out_torch = comp_model(tensor_img)\n",
    "out_jax = jax_mlp_forward.apply(params, None, np_image)"
   ]
  },
  {
   "cell_type": "code",
   "execution_count": 10,
   "id": "8d721ba6",
   "metadata": {},
   "outputs": [
    {
     "data": {
      "text/plain": [
       "True"
      ]
     },
     "execution_count": 10,
     "metadata": {},
     "output_type": "execute_result"
    }
   ],
   "source": [
    "np.allclose(out_torch.detach().cpu().numpy(), out_jax, atol=1e-4)"
   ]
  },
  {
   "attachments": {},
   "cell_type": "markdown",
   "id": "bdf35e55",
   "metadata": {},
   "source": [
    "## Create a BentoML Service for serving the model\n",
    "\n",
    "Note: using `%%writefile` here because `bentoml.Service` instance must be created in a separate `.py` file\n",
    "\n",
    "Even though we have only one model, we can create as many api endpoints as we want. Here we create two end points `predict_ndarray` and `predict_image`"
   ]
  },
  {
   "cell_type": "code",
   "execution_count": null,
   "id": "f3e2f590",
   "metadata": {},
   "outputs": [],
   "source": [
    "%%writefile service.py\n",
    "\n",
    "import typing as t\n",
    "\n",
    "import numpy as np\n",
    "import PIL.Image\n",
    "from PIL.Image import Image as PILImage\n",
    "\n",
    "import bentoml\n",
    "from bentoml.io import Image\n",
    "from bentoml.io import NumpyNdarray\n",
    "\n",
    "\n",
    "mnist_runner = bentoml.pytorch.get(\n",
    "    \"pytorch_mnist\",\n",
    "    name=\"mnist_runner\",\n",
    "    predict_fn_name=\"predict\",\n",
    ").to_runner()\n",
    "\n",
    "svc = bentoml.Service(\n",
    "    name=\"pytorch_mnist_demo\",\n",
    "    runners=[\n",
    "        mnist_runner,\n",
    "    ],\n",
    ")\n",
    "\n",
    "\n",
    "@svc.api(\n",
    "    input=NumpyNdarray(dtype=\"float32\", enforce_dtype=True),\n",
    "    output=NumpyNdarray(dtype=\"int64\"),\n",
    ")\n",
    "async def predict_ndarray(\n",
    "    inp: \"np.ndarray[t.Any, np.dtype[t.Any]]\",\n",
    ") -> \"np.ndarray[t.Any, np.dtype[t.Any]]\":\n",
    "    assert inp.shape == (28, 28)\n",
    "    # We are using greyscale image and our PyTorch model expect one\n",
    "    # extra channel dimension\n",
    "    inp = np.expand_dims(inp, 0)\n",
    "    output_tensor = await mnist_runner.async_run(inp)\n",
    "    return output_tensor.numpy()\n",
    "\n",
    "\n",
    "@svc.api(input=Image(), output=NumpyNdarray(dtype=\"int64\"))\n",
    "async def predict_image(f: PILImage) -> \"np.ndarray[t.Any, np.dtype[t.Any]]\":\n",
    "    assert isinstance(f, PILImage)\n",
    "    arr = np.array(f)/255.0\n",
    "    assert arr.shape == (28, 28)\n",
    "\n",
    "    # We are using greyscale image and our PyTorch model expect one\n",
    "    # extra channel dimension\n",
    "    arr = np.expand_dims(arr, 0).astype(\"float32\")\n",
    "    output_tensor = await mnist_runner.async_run(arr)\n",
    "    return output_tensor.numpy()\n"
   ]
  },
  {
   "attachments": {},
   "cell_type": "markdown",
   "id": "590147aa",
   "metadata": {},
   "source": [
    "Start a dev model server to test out the service defined above"
   ]
  },
  {
   "cell_type": "code",
   "execution_count": null,
   "id": "29173871",
   "metadata": {},
   "outputs": [],
   "source": [
    "!bentoml serve service.py:svc"
   ]
  },
  {
   "attachments": {},
   "cell_type": "markdown",
   "id": "606c1b36",
   "metadata": {},
   "source": [
    "Now you can use something like:\n",
    "\n",
    "`curl -H \"Content-Type: multipart/form-data\" -F'fileobj=@samples/1.png;type=image/png' http://127.0.0.1:3000/predict_image`\n",
    "    \n",
    "to send an image to the digit recognition service"
   ]
  },
  {
   "attachments": {},
   "cell_type": "markdown",
   "id": "c7f03564",
   "metadata": {},
   "source": [
    "## Build a Bento for distribution and deployment"
   ]
  },
  {
   "cell_type": "code",
   "execution_count": null,
   "id": "207561bc",
   "metadata": {},
   "outputs": [],
   "source": [
    "bentoml.build(\n",
    "    \"service.py:svc\",\n",
    "    include=[\"*.py\"],\n",
    "    exclude=[\"tests/\"],\n",
    "    description=\"file:./README.md\",\n",
    "    python=dict(\n",
    "        packages=[\"scikit-learn\", \"torch\", \"Pillow\"],\n",
    "    ),\n",
    ")"
   ]
  },
  {
   "attachments": {},
   "cell_type": "markdown",
   "id": "36306933",
   "metadata": {},
   "source": [
    "Starting a dev server with the Bento build:"
   ]
  },
  {
   "cell_type": "code",
   "execution_count": null,
   "id": "ec4b9dff",
   "metadata": {},
   "outputs": [],
   "source": [
    "!bentoml serve pytorch_mnist_demo:latest"
   ]
  },
  {
   "cell_type": "code",
   "execution_count": null,
   "id": "f05fae93",
   "metadata": {},
   "outputs": [],
   "source": []
  }
 ],
 "metadata": {
  "kernelspec": {
   "display_name": "Python 3 (ipykernel)",
   "language": "python",
   "name": "python3"
  },
  "language_info": {
   "codemirror_mode": {
    "name": "ipython",
    "version": 3
   },
   "file_extension": ".py",
   "mimetype": "text/x-python",
   "name": "python",
   "nbconvert_exporter": "python",
   "pygments_lexer": "ipython3",
   "version": "3.10.11"
  },
  "name": "pytorch_mnist.ipynb"
 },
 "nbformat": 4,
 "nbformat_minor": 5
}
