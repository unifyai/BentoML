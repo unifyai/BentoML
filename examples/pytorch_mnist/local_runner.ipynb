{
 "cells": [
  {
   "cell_type": "code",
   "execution_count": 2,
   "metadata": {},
   "outputs": [
    {
     "data": {
      "text/plain": [
       "Array([[ 1615.6176   , -3295.9219   ,  -282.7255   ,  -567.06836  ,\n",
       "         -424.73294  ,  -663.1085   ,  -280.57492  ,  -559.3614   ,\n",
       "           -7.6127357,  -699.2952   ]], dtype=float32)"
      ]
     },
     "execution_count": 2,
     "metadata": {},
     "output_type": "execute_result"
    }
   ],
   "source": [
    "import numpy as np\n",
    "import PIL.Image\n",
    "import torch\n",
    "\n",
    "import bentoml\n",
    "\n",
    "runner = bentoml.pytorch.get(\"pytorch_mnist:latest\").to_runner(ivy_transpile=True)\n",
    "runner.init_local()\n",
    "\n",
    "img = PIL.Image.open(\"samples/0.png\")\n",
    "np_img = np.array(img)\n",
    "tensor_img = torch.from_numpy(np_img).float()\n",
    "tensor_img = tensor_img.unsqueeze(0).unsqueeze(0)\n",
    "tensor_img = torch.nn.functional.interpolate(tensor_img, size=28, mode='bicubic', align_corners=False)\n",
    "np_img = tensor_img.detach().cpu().numpy()\n",
    "runner.run(np_img)"
   ]
  },
  {
   "cell_type": "code",
   "execution_count": null,
   "metadata": {},
   "outputs": [],
   "source": []
  }
 ],
 "metadata": {
  "kernelspec": {
   "display_name": "ivy",
   "language": "python",
   "name": "python3"
  },
  "language_info": {
   "codemirror_mode": {
    "name": "ipython",
    "version": 3
   },
   "file_extension": ".py",
   "mimetype": "text/x-python",
   "name": "python",
   "nbconvert_exporter": "python",
   "pygments_lexer": "ipython3",
   "version": "3.10.11"
  },
  "orig_nbformat": 4
 },
 "nbformat": 4,
 "nbformat_minor": 2
}
