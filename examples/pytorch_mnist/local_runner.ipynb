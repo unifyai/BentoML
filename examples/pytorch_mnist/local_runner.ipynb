{
 "cells": [
  {
   "cell_type": "code",
   "execution_count": 2,
   "metadata": {},
   "outputs": [
    {
     "data": {
      "text/plain": [
       "Array([0], dtype=int32)"
      ]
     },
     "execution_count": 2,
     "metadata": {},
     "output_type": "execute_result"
    }
   ],
   "source": [
    "import jax.numpy as jnp\n",
    "import PIL.Image\n",
    "import torch\n",
    "\n",
    "import bentoml\n",
    "\n",
    "runner = bentoml.pytorch.get(\"pytorch_mnist:latest\").to_runner(ivy_transpile=True)\n",
    "runner.init_local()\n",
    "\n",
    "img = PIL.Image.open(\"samples/0.png\")\n",
    "arr = jnp.array(img) / 255.0\n",
    "arr = jnp.expand_dims(arr, (0, 1))\n",
    "\n",
    "output = runner.run(arr)\n",
    "jnp.argmax(output, axis=1)"
   ]
  },
  {
   "cell_type": "code",
   "execution_count": null,
   "metadata": {},
   "outputs": [],
   "source": []
  }
 ],
 "metadata": {
  "kernelspec": {
   "display_name": "ivy",
   "language": "python",
   "name": "python3"
  },
  "language_info": {
   "codemirror_mode": {
    "name": "ipython",
    "version": 3
   },
   "file_extension": ".py",
   "mimetype": "text/x-python",
   "name": "python",
   "nbconvert_exporter": "python",
   "pygments_lexer": "ipython3",
   "version": "3.10.11"
  },
  "orig_nbformat": 4
 },
 "nbformat": 4,
 "nbformat_minor": 2
}
